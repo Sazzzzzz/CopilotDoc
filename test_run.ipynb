{
 "cells": [
  {
   "cell_type": "code",
   "execution_count": 1,
   "id": "c91c6217",
   "metadata": {},
   "outputs": [
    {
     "name": "stderr",
     "output_type": "stream",
     "text": [
      "/opt/homebrew/Caskroom/miniconda/base/envs/doc_env/lib/python3.12/site-packages/langchain_mistralai/embeddings.py:181: UserWarning: Could not download mistral tokenizer from Huggingface for calculating batch sizes. Set a Huggingface token via the HF_TOKEN environment variable to download the real tokenizer. Falling back to a dummy tokenizer that uses `len()`.\n",
      "  warnings.warn(\n"
     ]
    }
   ],
   "source": [
    "from langchain_mistralai import MistralAIEmbeddings\n",
    "\n",
    "embeddings = MistralAIEmbeddings(model=\"mistral-embed\")"
   ]
  },
  {
   "cell_type": "code",
   "execution_count": 2,
   "id": "3ea7ba28",
   "metadata": {},
   "outputs": [],
   "source": [
    "from langchain_chroma import Chroma\n",
    "\n",
    "vector_store = Chroma(\n",
    "    collection_name=\"example_collection\",\n",
    "    embedding_function=embeddings,\n",
    "    persist_directory=\"./chroma_langchain_db\",  # Where to save data locally, remove if not necessary\n",
    ")"
   ]
  },
  {
   "cell_type": "code",
   "execution_count": 5,
   "id": "4afa5ca7",
   "metadata": {},
   "outputs": [
    {
     "name": "stdout",
     "output_type": "stream",
     "text": [
      "page_content='### f-string\n",
      "1. In f-strings, a single `{}` is used for variable interpolation\n",
      "2. When you need to output a literal curly brace `{` or `}` in an f-string, you need to double them\n",
      "\n",
      "### Comment Syntax\n",
      "\n",
      "```python\n",
      "# type: ignore: ignore all mistake for current line\n",
      "# type: ignore[misc]: ignore specific mistake for current line\n",
      "# type: int\n",
      "# cSpell: words sth1, sth2\n",
      "# cSpell: ignore sth1, sth2\n",
      "# cSpell: diable/enable\n",
      "# cSpell: disable-line/disable-next-line\n",
      "```\n",
      "\n",
      "### `for … else…`\n",
      "\n",
      "`for … else …` is absolutely legal python code. It's normal applications encompass:**\n",
      "+ Loop completion validation\n",
      "+ Exception handle when loop completed undesirably\n",
      "+ Avoid flagship variables that would require further tracking.' metadata={'source': 'test2.md', 'start_index': 12311}\n"
     ]
    }
   ],
   "source": [
    "results = vector_store.similarity_search(\n",
    "    \"f-string\",\n",
    ")\n",
    "\n",
    "print(results[0])"
   ]
  },
  {
   "cell_type": "code",
   "execution_count": 4,
   "id": "a6f7c601",
   "metadata": {},
   "outputs": [],
   "source": [
    "from langchain_text_splitters import RecursiveCharacterTextSplitter\n",
    "from langchain_community.document_loaders import TextLoader\n",
    "\n",
    "file_path = \"test2.md\"\n",
    "loader = TextLoader(file_path)\n",
    "\n",
    "docs = loader.load()\n",
    "text_splitter = RecursiveCharacterTextSplitter(\n",
    "    chunk_size=1000, chunk_overlap=200, add_start_index=True\n",
    ")\n",
    "all_splits = text_splitter.split_documents(docs)\n",
    "ids = vector_store.add_documents(documents=all_splits)"
   ]
  },
  {
   "cell_type": "code",
   "execution_count": 6,
   "id": "2fe7f862",
   "metadata": {},
   "outputs": [
    {
     "name": "stdout",
     "output_type": "stream",
     "text": [
      "['5b08e120-9bbd-4695-8991-23270db5a487', '751537bf-17e1-41a7-a413-2cb4c02141b6', 'f36fc829-a9a5-4baf-b422-41250a960af0', '46f559a2-36e3-4a36-bb66-341f852fe9cc', '6ee3d00b-52c7-439a-9445-ec62bc1326a3', 'd0316e6f-60ce-4cb0-83a7-41b7d0806059', 'feab5179-1cdb-4b47-ad89-2a1d7171292c', '35f34dfd-0fd7-408e-a1f6-20d5b7f6cb2e', '00d9bf2b-3524-451f-818c-d0175f2f91be', '88f18467-3bc0-41da-9f5c-7d0a9a8386ff', 'd48546dd-dd34-445f-a40d-daf1cd53f7e9', '9573aa7e-9b0e-46a0-82a5-1d177f974082', '82f77420-52c6-496e-96ee-a533fc19ba35', '8b1f781e-57ea-4d57-84a1-44c2c5ba069f', '8fb5f738-cb6f-47f4-8916-a2df9345fc03', '893c3091-a7c0-477f-a8af-75d35980cea7', 'a031e232-2399-48bd-8153-27ff4ddd4c0b', '2bcabdf3-70f2-474e-a82c-5c4c101fd0df']\n"
     ]
    }
   ],
   "source": [
    "print(ids)"
   ]
  },
  {
   "cell_type": "code",
   "execution_count": null,
   "id": "66a8d446",
   "metadata": {},
   "outputs": [],
   "source": []
  }
 ],
 "metadata": {
  "kernelspec": {
   "display_name": "doc_env",
   "language": "python",
   "name": "python3"
  },
  "language_info": {
   "codemirror_mode": {
    "name": "ipython",
    "version": 3
   },
   "file_extension": ".py",
   "mimetype": "text/x-python",
   "name": "python",
   "nbconvert_exporter": "python",
   "pygments_lexer": "ipython3",
   "version": "3.12.4"
  }
 },
 "nbformat": 4,
 "nbformat_minor": 5
}
